{
 "cells": [
  {
   "cell_type": "code",
   "execution_count": null,
   "metadata": {},
   "outputs": [],
   "source": [
    "# Records episode video.\n",
    "\n",
    "import tensorflow as tf\n",
    "from pyvirtualdisplay import Display\n",
    "display = Display(visible=0, size=(1400, 900))\n",
    "display.start()\n",
    "\n",
    "from providers import env\n",
    "from providers import actor\n",
    "import shutil, os.path\n",
    "\n",
    "from gym import wrappers\n",
    "\n",
    "actor.restore()\n",
    "\n",
    "video = './video'\n",
    "\n",
    "total_reward = 0\n",
    "for i in range(10):\n",
    "    if os.path.exists(video):\n",
    "        shutil.rmtree(video)\n",
    "    eval_env = wrappers.Monitor(env, video)\n",
    "    state, done, ep_ret, ep_len = eval_env.reset(), False, 0, 0\n",
    "    total_reward = 0\n",
    "    while not done:\n",
    "        state, reward, done, _ = eval_env.step(actor(tf.constant([state]))[0])\n",
    "        total_reward += reward\n",
    "    eval_env.close()\n",
    "    if total_reward > 250:\n",
    "        break\n",
    "    \n",
    "print(\"## Done, total_reward: {}.\".format(total_reward))"
   ]
  },
  {
   "cell_type": "code",
   "execution_count": null,
   "metadata": {},
   "outputs": [],
   "source": [
    "import matplotlib.pyplot as plt\n",
    "import pickle, os\n",
    "\n",
    "file_name = 'results_1553447277.008411.txt'\n",
    "results_path = os.path.join(os.getcwd(), 'results', file_name)\n",
    "\n",
    "results = []\n",
    "with open(results_path, \"rb\") as fp:\n",
    "    while 1:\n",
    "        try:\n",
    "            results.append(pickle.load(fp))\n",
    "        except EOFError:\n",
    "            break\n",
    "\n",
    "mins = [t[0] for t in results]\n",
    "avg = [t[1] for t in results]\n",
    "maxs = [t[2] for t in results]\n",
    "    \n",
    "%matplotlib notebook\n",
    "plt.plot(avg)\n",
    "plt.xlabel(\"Episode\")\n",
    "plt.ylabel(\"Reward\")\n",
    "plt.show()\n"
   ]
  }
 ],
 "metadata": {
  "kernelspec": {
   "display_name": "Python tf2",
   "language": "python",
   "name": "tf2"
  },
  "language_info": {
   "codemirror_mode": {
    "name": "ipython",
    "version": 3
   },
   "file_extension": ".py",
   "mimetype": "text/x-python",
   "name": "python",
   "nbconvert_exporter": "python",
   "pygments_lexer": "ipython3",
   "version": "3.7.2"
  }
 },
 "nbformat": 4,
 "nbformat_minor": 2
}
